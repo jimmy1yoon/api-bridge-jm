{
 "cells": [
  {
   "cell_type": "code",
   "execution_count": 2,
   "metadata": {},
   "outputs": [],
   "source": [
    "import time\n",
    "import random\n",
    "import requests\n",
    "\n",
    "import signaturehelper\n"
   ]
  },
  {
   "cell_type": "code",
   "execution_count": 3,
   "metadata": {},
   "outputs": [],
   "source": [
    "def get_header(method, uri, api_key, secret_key, customer_id):\n",
    "    timestamp = str(round(time.time() * 1000))\n",
    "    signature = signaturehelper.Signature.generate(timestamp, method, uri, SECRET_KEY)\n",
    "    return {'Content-Type': 'application/json; charset=UTF-8', 'X-Timestamp': timestamp, 'X-API-KEY': API_KEY, 'X-Customer': str(CUSTOMER_ID), 'X-Signature': signature}\n",
    "\n",
    "\n",
    "BASE_URL = 'https://api.searchad.naver.com'\n",
    "API_KEY = '010000000068f05de9b74812219e17267cc6b9f99112497b70742f2f176b03388c4f0d56f3'\n",
    "SECRET_KEY = 'AQAAAABo8F3pt0gSIZ4XJnzGufmRRPHExa8r09mJY+cgOdiBYw=='\n",
    "CUSTOMER_ID = '2802603'\n"
   ]
  },
  {
   "cell_type": "code",
   "execution_count": 4,
   "metadata": {},
   "outputs": [],
   "source": [
    "def requests_get(uri,method,params=''):\n",
    "    r = requests.get(BASE_URL + uri, params=params,headers=get_header(method, uri, API_KEY, SECRET_KEY, CUSTOMER_ID))\n",
    "    return r"
   ]
  },
  {
   "attachments": {},
   "cell_type": "markdown",
   "metadata": {},
   "source": [
    "## Adgroups"
   ]
  },
  {
   "cell_type": "code",
   "execution_count": 9,
   "metadata": {},
   "outputs": [
    {
     "name": "stdout",
     "output_type": "stream",
     "text": [
      "response status_code = 200\n",
      "response body = [{'nccAdgroupId': 'grp-a001-01-000000032576933', 'customerId': 2802603, 'nccCampaignId': 'cmp-a001-01-000000006363279', 'mobileChannelId': 'bsn-a001-00-000000008155766', 'pcChannelId': 'bsn-a001-00-000000008155766', 'bidAmt': 70, 'name': 'test1_광고그룹#1', 'userLock': True, 'useDailyBudget': True, 'useKeywordPlus': False, 'keywordPlusWeight': 0, 'contentsNetworkBidAmt': 70, 'useCntsNetworkBidAmt': False, 'mobileNetworkBidWeight': 100, 'pcNetworkBidWeight': 100, 'dailyBudget': 70, 'budgetLock': False, 'delFlag': False, 'regTm': '2023-02-20T04:10:32.000Z', 'editTm': '2023-02-20T06:16:10.000Z', 'targetSummary': {'pcMobile': 'all', 'media': 'all'}, 'pcChannelKey': 'http://test_adgroup1.com', 'mobileChannelKey': 'http://test_adgroup1.com', 'status': 'PAUSED', 'statusReason': 'BUSINESS_CHANNEL_UNDER_REVIEW', 'expectCost': 0, 'migType': 0, 'adgroupAttrJson': {'campaignTp': 1}, 'adRollingType': 'PERFORMANCE', 'adgroupType': 'WEB_SITE', 'systemBiddingType': 'NONE', 'useCntsNetworkBidWeight': False, 'contentsNetworkBidWeight': 100}, {'nccAdgroupId': 'grp-a001-03-000000032581511', 'customerId': 2802603, 'nccCampaignId': 'cmp-a001-03-000000006371517', 'mobileChannelId': 'bsn-a001-00-000000008157290', 'pcChannelId': 'bsn-a001-00-000000008157290', 'bidAmt': 70, 'name': 'test2_광고그룹#1', 'userLock': True, 'useDailyBudget': True, 'useKeywordPlus': False, 'keywordPlusWeight': 100, 'contentsNetworkBidAmt': 70, 'useCntsNetworkBidAmt': False, 'mobileNetworkBidWeight': 100, 'pcNetworkBidWeight': 100, 'dailyBudget': 70, 'budgetLock': False, 'delFlag': False, 'regTm': '2023-02-20T06:13:33.000Z', 'editTm': '2023-02-20T06:16:15.000Z', 'targetSummary': {'pcMobile': 'all', 'media': 'all'}, 'pcChannelKey': 'http://test2.com', 'mobileChannelKey': 'http://test2.com', 'status': 'PAUSED', 'statusReason': 'BUSINESS_CHANNEL_UNDER_REVIEW', 'expectCost': 0, 'migType': 0, 'adgroupAttrJson': {'contentsType': 'INFORMATION', 'campaignTp': 3}, 'adRollingType': 'PERFORMANCE', 'adgroupType': 'INFORMATION', 'systemBiddingType': 'NONE', 'useCntsNetworkBidWeight': False, 'contentsNetworkBidWeight': 100}]\n"
     ]
    }
   ],
   "source": [
    "res = requests_get('/ncc/adgroups','GET')\n",
    "\n",
    "print(\"response status_code = {}\".format(res.status_code))\n",
    "print(\"response body = {}\".format(res.json()))\n",
    "target_adgroup = res.json()[0]\n",
    "\n"
   ]
  },
  {
   "attachments": {},
   "cell_type": "markdown",
   "metadata": {},
   "source": [
    "# Campaigns"
   ]
  },
  {
   "cell_type": "code",
   "execution_count": 7,
   "metadata": {},
   "outputs": [
    {
     "name": "stdout",
     "output_type": "stream",
     "text": [
      "response status_code = 200\n",
      "response body = [{'nccCampaignId': 'cmp-a001-01-000000006363279', 'customerId': 2802603, 'name': 'test1', 'userLock': True, 'campaignTp': 'WEB_SITE', 'deliveryMethod': 'ACCELERATED', 'trackingMode': 'TRACKING_DISABLED', 'usePeriod': False, 'dailyBudget': 70, 'useDailyBudget': True, 'totalChargeCost': 0, 'status': 'PAUSED', 'statusReason': 'CAMPAIGN_PAUSED', 'expectCost': 0, 'migType': 0, 'delFlag': False, 'regTm': '2023-02-17T05:40:30.000Z', 'editTm': '2023-02-20T06:16:22.000Z'}, {'nccCampaignId': 'cmp-a001-03-000000006371517', 'customerId': 2802603, 'name': 'test2', 'userLock': True, 'campaignTp': 'POWER_CONTENTS', 'deliveryMethod': 'ACCELERATED', 'trackingMode': 'TRACKING_DISABLED', 'usePeriod': False, 'dailyBudget': 70, 'useDailyBudget': True, 'totalChargeCost': 0, 'status': 'PAUSED', 'statusReason': 'CAMPAIGN_PAUSED', 'expectCost': 0, 'migType': 0, 'delFlag': False, 'regTm': '2023-02-20T06:12:49.000Z', 'editTm': '2023-02-20T06:16:22.000Z'}]\n"
     ]
    }
   ],
   "source": [
    "res = requests_get('/ncc/campaigns','GET')\n",
    "print(\"response status_code = {}\".format(res.status_code))\n",
    "print(\"response body = {}\".format(res.json()))"
   ]
  },
  {
   "cell_type": "code",
   "execution_count": 8,
   "metadata": {},
   "outputs": [
    {
     "name": "stdout",
     "output_type": "stream",
     "text": [
      "response status_code = 200\n",
      "response body = [{'nccCampaignId': 'cmp-a001-01-000000006363279', 'customerId': 2802603, 'name': 'test1', 'userLock': True, 'campaignTp': 'WEB_SITE', 'deliveryMethod': 'ACCELERATED', 'trackingMode': 'TRACKING_DISABLED', 'usePeriod': False, 'dailyBudget': 70, 'useDailyBudget': True, 'totalChargeCost': 0, 'status': 'PAUSED', 'statusReason': 'CAMPAIGN_PAUSED', 'expectCost': 0, 'migType': 0, 'delFlag': False, 'regTm': '2023-02-17T05:40:30.000Z', 'editTm': '2023-02-20T06:16:22.000Z'}]\n"
     ]
    }
   ],
   "source": [
    "res = requests_get('/ncc/campaigns','GET',{'ids' : 'cmp-a001-01-000000006363279'})\n",
    "print(\"response status_code = {}\".format(res.status_code))\n",
    "print(\"response body = {}\".format(res.json()))"
   ]
  },
  {
   "attachments": {},
   "cell_type": "markdown",
   "metadata": {},
   "source": [
    "## Stats"
   ]
  },
  {
   "cell_type": "code",
   "execution_count": 12,
   "metadata": {},
   "outputs": [
    {
     "data": {
      "text/plain": [
       "{'nccAdgroupId': 'grp-a001-01-000000032576933',\n",
       " 'customerId': 2802603,\n",
       " 'nccCampaignId': 'cmp-a001-01-000000006363279',\n",
       " 'mobileChannelId': 'bsn-a001-00-000000008155766',\n",
       " 'pcChannelId': 'bsn-a001-00-000000008155766',\n",
       " 'bidAmt': 70,\n",
       " 'name': 'test1_광고그룹#1',\n",
       " 'userLock': True,\n",
       " 'useDailyBudget': True,\n",
       " 'useKeywordPlus': False,\n",
       " 'keywordPlusWeight': 0,\n",
       " 'contentsNetworkBidAmt': 70,\n",
       " 'useCntsNetworkBidAmt': False,\n",
       " 'mobileNetworkBidWeight': 100,\n",
       " 'pcNetworkBidWeight': 100,\n",
       " 'dailyBudget': 70,\n",
       " 'budgetLock': False,\n",
       " 'delFlag': False,\n",
       " 'regTm': '2023-02-20T04:10:32.000Z',\n",
       " 'editTm': '2023-02-20T06:16:10.000Z',\n",
       " 'targetSummary': {'pcMobile': 'all', 'media': 'all'},\n",
       " 'pcChannelKey': 'http://test_adgroup1.com',\n",
       " 'mobileChannelKey': 'http://test_adgroup1.com',\n",
       " 'status': 'PAUSED',\n",
       " 'statusReason': 'BUSINESS_CHANNEL_UNDER_REVIEW',\n",
       " 'expectCost': 0,\n",
       " 'migType': 0,\n",
       " 'adgroupAttrJson': {'campaignTp': 1},\n",
       " 'adRollingType': 'PERFORMANCE',\n",
       " 'adgroupType': 'WEB_SITE',\n",
       " 'systemBiddingType': 'NONE',\n",
       " 'useCntsNetworkBidWeight': False,\n",
       " 'contentsNetworkBidWeight': 100}"
      ]
     },
     "execution_count": 12,
     "metadata": {},
     "output_type": "execute_result"
    }
   ],
   "source": [
    "target_adgroup"
   ]
  },
  {
   "cell_type": "code",
   "execution_count": 15,
   "metadata": {},
   "outputs": [
    {
     "name": "stdout",
     "output_type": "stream",
     "text": [
      "response status_code = 200\n",
      "response body = {'data': [], 'compTm': '202302211004', 'cycleBaseTm': '202302200000'}\n"
     ]
    }
   ],
   "source": [
    "stat_ids = target_adgroup['nccAdgroupId']\n",
    "\n",
    "res = requests_get('/stats','GET',{'ids': stat_ids, 'fields': '[\"clkCnt\",\"impCnt\",\"salesAmt\", \"ctr\", \"cpc\", \"avgRnk\", \"ccnt\"]', 'datePreset': 'yesterday'})\n",
    "print(\"response status_code = {}\".format(res.status_code))\n",
    "print(\"response body = {}\".format(res.json()))"
   ]
  },
  {
   "cell_type": "code",
   "execution_count": 16,
   "metadata": {},
   "outputs": [
    {
     "name": "stdout",
     "output_type": "stream",
     "text": [
      "response status_code = 200\n",
      "response body = {'data': [], 'compTm': '202302211004', 'cycleBaseTm': '202302200000'}\n"
     ]
    }
   ],
   "source": [
    "stat_ids = target_adgroup['nccCampaignId']\n",
    "\n",
    "res = requests_get('/stats','GET',{'ids': stat_ids, 'fields': '[\"clkCnt\",\"impCnt\",\"salesAmt\", \"ctr\", \"cpc\", \"avgRnk\", \"ccnt\"]', 'datePreset': 'yesterday'})\n",
    "print(\"response status_code = {}\".format(res.status_code))\n",
    "print(\"response body = {}\".format(res.json()))"
   ]
  },
  {
   "attachments": {},
   "cell_type": "markdown",
   "metadata": {},
   "source": [
    "## Ad"
   ]
  },
  {
   "cell_type": "code",
   "execution_count": 19,
   "metadata": {},
   "outputs": [
    {
     "name": "stdout",
     "output_type": "stream",
     "text": [
      "response status_code = 200\n",
      "response body = [{'nccAdId': 'nad-a001-01-000000229861336', 'nccAdgroupId': 'grp-a001-01-000000032576933', 'customerId': 2802603, 'inspectStatus': 'UNDER_REVIEW', 'type': 'TEXT_45', 'ad': {'description': '테스트입니다. 테스트입니다. 테스트입니다.', 'headline': '광고 소재 테스트', 'mobile': {'display': 'http://test_adgroup1.com', 'final': 'http://test_adgroup1.com', 'punyCode': 'http://test_adgroup1.com'}, 'pc': {'display': 'http://test_adgroup1.com', 'final': 'http://test_adgroup1.com', 'punyCode': 'http://test_adgroup1.com'}}, 'adAttr': {}, 'userLock': False, 'enable': True, 'delFlag': False, 'regTm': '2023-02-20T04:12:44.000Z', 'editTm': '2023-02-20T04:12:44.000Z', 'status': 'PAUSED', 'statusReason': 'AD_UNDER_REVIEW'}]\n"
     ]
    }
   ],
   "source": [
    "params={'nccAdgroupId' : 'grp-a001-01-000000032576933'}\n",
    "\n",
    "res = requests_get('/ncc/ads','GET',params)\n",
    "\n",
    "print(\"response status_code = {}\".format(res.status_code))\n",
    "print(\"response body = {}\".format(res.json()))"
   ]
  },
  {
   "attachments": {},
   "cell_type": "markdown",
   "metadata": {},
   "source": [
    "## keyword"
   ]
  },
  {
   "cell_type": "code",
   "execution_count": 37,
   "metadata": {},
   "outputs": [
    {
     "name": "stdout",
     "output_type": "stream",
     "text": [
      "response status_code = 400\n",
      "response body = {'title': 'Bad Request', 'status': 400, 'detail': 'Parameter conditions \"ids\" OR \"nccAdgroupId\" OR \"nccLabelId\" not met for actual request parameters: '}\n"
     ]
    }
   ],
   "source": [
    "params={'ids' : 'nkw-a001-01-000005175608411'}\n",
    "\n",
    "res = requests_get('/ncc/keywords','GET')\n",
    "\n",
    "print(\"response status_code = {}\".format(res.status_code))\n",
    "print(\"response body = {}\".format(res.json()))"
   ]
  },
  {
   "cell_type": "code",
   "execution_count": 42,
   "metadata": {},
   "outputs": [
    {
     "name": "stdout",
     "output_type": "stream",
     "text": [
      "response status_code = 200\n",
      "response body = [{'nccKeywordId': 'nkw-a001-01-000005175608411', 'keyword': '검색광고테스트', 'customerId': 2802603, 'nccAdgroupId': 'grp-a001-01-000000032576933', 'nccCampaignId': 'cmp-a001-01-000000006363279', 'userLock': False, 'inspectStatus': 'UNDER_REVIEW', 'bidAmt': 70, 'useGroupBidAmt': True, 'delFlag': False, 'regTm': '2023-02-20T04:11:50.000Z', 'editTm': '2023-02-20T04:11:50.000Z', 'status': 'PAUSED', 'statusReason': 'KEYWORD_UNDER_REVIEW', 'attr': {}, 'nccQi': {'qiGrade': 4}}]\n"
     ]
    }
   ],
   "source": [
    "res = requests_get('/ncc/keywords','GET',{'ids' : 'nkw-a001-01-000005175608411'})\n",
    "print(\"response status_code = {}\".format(res.status_code))\n",
    "print(\"response body = {}\".format(res.json()))"
   ]
  }
 ],
 "metadata": {
  "kernelspec": {
   "display_name": "base",
   "language": "python",
   "name": "python3"
  },
  "language_info": {
   "codemirror_mode": {
    "name": "ipython",
    "version": 3
   },
   "file_extension": ".py",
   "mimetype": "text/x-python",
   "name": "python",
   "nbconvert_exporter": "python",
   "pygments_lexer": "ipython3",
   "version": "3.9.13"
  },
  "orig_nbformat": 4,
  "vscode": {
   "interpreter": {
    "hash": "4f7825005ce1482a7a21ff0e6b1a07cdc8708c903f254a17d48827f553767504"
   }
  }
 },
 "nbformat": 4,
 "nbformat_minor": 2
}
